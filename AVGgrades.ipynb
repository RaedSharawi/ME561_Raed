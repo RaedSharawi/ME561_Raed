{
  "nbformat": 4,
  "nbformat_minor": 0,
  "metadata": {
    "colab": {
      "provenance": []
    },
    "kernelspec": {
      "name": "python3",
      "display_name": "Python 3"
    },
    "language_info": {
      "name": "python"
    }
  },
  "cells": [
    {
      "cell_type": "code",
      "execution_count": null,
      "metadata": {
        "id": "ahb85FXAQMHV"
      },
      "outputs": [],
      "source": [
        "def calculateaverage(grades):\n",
        "    total = sum(grades)\n",
        "    return total / len(grades)\n",
        "\n",
        "def main():\n",
        "    # Open the file\n",
        "    with open('studentgrades.txt', 'r') as file:\n",
        "        lines = file.readlines()\n",
        "\n",
        "    # Initialize an empty list to store student dictionaries\n",
        "    students = []\n",
        "\n",
        "    # Iterate over each line in the file\n",
        "    for line in lines:\n",
        "        # Split the line into fields\n",
        "        fields = line.strip().split('\\t')\n",
        "        # Extract student name\n",
        "        studentname = fields[0]\n",
        "        # Extract grades for courses\n",
        "        grades = [int(grade) if grade != '---' else 0 for grade in fields[1:]]\n",
        "        # Create a dictionary for the student\n",
        "        studentdata = {'Student': student_name, 'Grades': grades}\n",
        "        # Append the dictionary to the list of students\n",
        "        students.append(student_data)\n",
        "\n",
        "    # Calculate and print the average for each student\n",
        "    for student in students:\n",
        "        average_grade = calculate_average(student['Grades'])\n",
        "        print(f\"{student['Student']}: Average Grade = {average_grade:.2f}\")\n",
        "\n",
        "if __name == \"__main\":\n",
        "    main()"
      ]
    }
  ]
}